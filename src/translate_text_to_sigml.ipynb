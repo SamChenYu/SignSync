{
 "cells": [
  {
   "cell_type": "code",
   "execution_count": 138,
   "metadata": {},
   "outputs": [],
   "source": [
    "import openai\n",
    "import os\n",
    "import pandas as pd"
   ]
  },
  {
   "cell_type": "code",
   "execution_count": 93,
   "metadata": {},
   "outputs": [],
   "source": [
    "openai.api_key = \"c699a886-ca36-4638-be22-16eba03bb229\"\n",
    "openai.api_base = \"https://polite-ground-030dc3103.4.azurestaticapps.net/api/v1\"\n",
    "openai.api_type = 'azure'\n",
    "openai.api_version = '2023-05-15'\n",
    "deployment_name='gpt-35-hackathon' "
   ]
  },
  {
   "cell_type": "code",
   "execution_count": 94,
   "metadata": {},
   "outputs": [],
   "source": [
    "def generate_array(directory):\n",
    "    words = []\n",
    "    # List all files in the directory\n",
    "    files = os.listdir(directory)\n",
    "\n",
    "    # Iterate over each file\n",
    "    for file in files:\n",
    "        # Construct the file path\n",
    "        file_path = os.path.join(directory, file)\n",
    "        \n",
    "        # Check if the file is a regular file (not a directory)\n",
    "        if os.path.isfile(file_path):\n",
    "            # Open the file and read its contents\n",
    "            with open(file_path, 'r') as f:\n",
    "                words.append( extract_file_name(file) )\n",
    "    return words\n",
    "\n",
    "def extract_file_name(file_path):\n",
    "    # Find the index of '.sigml' in the text\n",
    "    dot_sigml_index = file_path.rfind('.sigml')\n",
    "\n",
    "    # Extract the substring between the last '\\' and '.sigml'\n",
    "    desired_text = file_path[0:dot_sigml_index]\n",
    "\n",
    "    return desired_text"
   ]
  },
  {
   "cell_type": "code",
   "execution_count": null,
   "metadata": {},
   "outputs": [],
   "source": [
    "codes = {\n",
    "    \"not_found\": 404,\n",
    "    \"found\":101\n",
    "}"
   ]
  },
  {
   "cell_type": "code",
   "execution_count": 289,
   "metadata": {},
   "outputs": [
    {
     "name": "stdout",
     "output_type": "stream",
     "text": [
      "These all are the words the array holds: 0,1,10,100,11,12,13,1month,2-3fingerbent,2,2months,3,4,5,6,7,8,9,A (Case Conflict),A,about,above,absorb,accept,access,accident,accuse,achakan,across,act,acting,active,actor,actress,add,additional,advice,advise,aeroplane,afraid,africa,after,afternoon,again,age,agree,alive,all,allah,allday,allover,allow,almirah,alone,always,ambulance,america,among,andhrapradesh,angel,angry,announce,anothertime,anothertime2,answer,ant,antartica,any,anything,appear,appears,apple,appointment,april,are,area,areoplane,argue,around,arrange,arrest,arrive,art,asia,askanything,askquestion,assam,associate,at,atap,atest,atlast,attend,at_this_place,audiologist,auditorium,australia,austria,autorickshaw,auto_rickshaws,available,avoid,awful,axe,axis,B (Case Conflict),B,bad,badminton,bag,bake,ball,ballon,bandage,bangali,basketball,bat,bath,beak,bearwithit,beat,beautiful,become,before,before2,begin,behind,belgium,bell,below,bench,bend,benefit,bent-hand,berth,best,better,between,bhagat,bhangra,bible,big,bird,black,blackboard,blow,blue,boat,body,bogies,boil,book,books,borrow,bottle,bowl,boxing,boy,bracket,bread,break-in,break,bridge,brighton,bring,britain,broom,brother,brothers,brown,brush,bsl,buddha,budhpoornima,build,building,bulb,bullockcart,bus,business,busy,bus_stand,buttons,buy,buying,by,bye,C (Case Conflict),c-x,C,cabbage,calculator,call,calm-down,can,cancel,cannot,cant,canyousign,car,carpenter,carrom,carrot,carry,catch-2,catch,cauliflower,ceiling,cement,center,certificate,chair,chalk,change1,changeback,changemind,chase,check,chemistry,cheque,chess,child,children,chilly,choose,christian,christmas,church,cinema,circle,circus,clap,class,classroom,clerk,click,climb,climbdown,climbup,clinic,clock,close,closedhand,cloud,clouds,clown,cobbler,coefficient,coin,collect,college,colour,colours,come,comeover,comes,cometoyou,come_over,come_to_you,coming,communicate,communication,compare,compass,complain,complaint,composite_carriage,Computer (Case Conflict),Computer,concentrate,cone,confuse,congratulations,contact(pointhand),contact,continue,control,cook,coolie,copy,copy1,corner,correct,council,count,cover,crash,cream,cricket,criticize,crow,cry,cube,cucumber,cup,curly_bracket,cut,cycle,D (Case Conflict),D,Daily-bread,dance,dancer,dancing,date,day,day_after,day_before,deaf,decimal,decimal_place,decrease,degree,delete,dentist,dept,desk,detail,develop,differences,different,difficult,discuss,dislike,distance,divide,Diwali,do,doctor,doctor1,doing,donotunderstand,down,draw,dream,drink,drinking,duck,duplicate,duster,E (Case Conflict),E,easy,eat,education,educationalterms,educational_terms,eid,eight,eighteen,eighthundred,eightoclock,electrician,electricity,eleven,elevenoclock,email,embroidry,empty,encourage,engine,engineer,england,english,enjoy,enter,equal,equator,eraser,escape,essay,evening,every,everyday,everyyear,exam,examination,examine,example,except_for,exercise,expensive,experience,extra,eyelash,F (Case Conflict),F,factory,fail-loser,fall,fan,far,farmer,fat,father,fear,february,feed,feel,fever,few,fifteen,fight,fill-in,fill,find,fingerspell,finish,first,five,fivehundred,fiveoclock,flood,floor,fly,food,football,foots,foot_(measurement),for,forever,forgive,form,for_that,four,fourhundred,fouroclock,fourteen,france,friday,from,fruit,G (Case Conflict),G,gardner,germany,get,gets,getting,ginger,girl,give-form,give-me,glass,go-with-you,go,going,gold,gone,good,got,greece,green,grey,H (Case Conflict),H,half-past,halfpast,hand,hang,hardofhearing,hard_work,hard_working,havealook,hbody,hcarpenter,hchild,hclosedhand,hcook,hdesk,he,head,health,hearing,heartbeat,heart_beat,height,hello,help-me,help-you,her,here,hers,hfear,hfight,hfive,hfour,hhappy,hhere,hhome,hill,him,himself,hindi,hindu,hire,his,hlike,hme,hmind,hmore,hmother,hnot,hnow,hockey,hold,holland,home,hone,hour,hours,house,how,howareyou,howlong_,howmany,howmuch,how_many,how_much,hpen,hpower,hprotion,hread,hroundhand,hrs,hrun,hsee,hsemiroundhand,hsemiroundhandu,hseven,hsilence,hsix,htap,hten,hthat,hthese,hthis,hthree,htight,htub,htwo,hun,hundred,hungry,hurt,hvan,hwater,h_eat,I (Case Conflict),I,ice,idea,ignore,ill,important,impossible,improve,in,increase,index.htm,informus,infrontof,injection,intelligent,interesting,internet,interpreter,Is (Case Conflict),Is,issues,it,iunderstand,Iv,ix-down,ix-left,J (Case Conflict),J,jain,january,jealous,jeep,jesus,join,jug,jump,june,justamoment,K (Case Conflict),K,kannada,kanpur,karate,keep,keeps,kerala,key,keyboard,kfist,kfive,kfour,kilometer,kite,kktwo,kme,know,knowledge,knowwell,koli,kone,kroundhand,kthree,ktwo,L (Case Conflict),L,la,laboratory,ladder,lakhnow,languages,late,later,laugh,lead,leafy-vegetables,leak,learn,leave,lecturer,left,lend,less,letmeknow,letter,level,library,lick,lie,light-house,like,liked,line,link,list,litter,little-fingerhand,little,livewhere,located,lock,long,lorry,lose,loss,loss1,lotus,loud,love,M (Case Conflict),M,make,man,mango,manner,many,march,mark,market,marks,married,mason,may,maybe,me,meal,medicine,meet,meets,mess,method,milkman,mind,minicom,minute,mistake,monday,money,more,morning,mother,motorcycle,mumbai,my,N (Case Conflict),n-n(norfolk),N,nagpur,nails,namaste,name,namewhat,national,near,need,needle,never,new,news,next,nextyear,nice,night,nine,ninehundred,nineoclock,nineteen,no,none,north-pole,not,note-book,note-money,notebook,now,number,nurse,nurses,O (Case Conflict),O,objects,of,offer,office,officer,often,old,olympics,on,one,onehundred,oneoclock,onerupee,onetoone,onion,ooty,open,opendoors,openhand,opens,operation,opraise-clap(deaf),or,orange,order,organise,oriya,other,our,ourself,out,output.cs,over,own,P (Case Conflict),P,page,paper,paragraph,paranoid,parts,pass,passed,past,pay-me,pay,peas,pen,pencil,pencils,pens,person,phone,phoneme,phoneyou,pick,picture,pink,pipe,place,places,plan,play,playing,please,plural,pointing,pooryou,possible,post_office,pot,potatoes,pound,power,practice,prayer,pretend,print,problem,procedure,profit,provide,punjabi,purple,put-on-letter,put,putonleft,Q (Case Conflict),Q,quarterpast,quarterto,question,questionnaire,questions,quick,quiet,quote,quran,R (Case Conflict),R,race,racing,railway,railway_station,Rain,rare,rarea,rborrow,rchild,rclosedhand,reach,reaching,read,reading,ready,reason,reat,receive,reception,rectangle,red,regions,regular,relate,relation,remind,remove,repeat,research,responsibility,responsible,restaurant,resting_position,result,rfear,rfight,rfist,rfive,rfour,rhome,right-_me,right-_that,right-__the,right,right_child,right_sick,rmind,rmother,rone,ronehandsign,roof,round-hand,roundhand,rportion,rpower,rread,rrme,rrmind,rroundhand,rrrtree,rrtree,rrun,rrwater,rsame,rsee,rsemi_roundhand,rsilence,rtap,rten,rthings,rthree,rtight,rtree,rtub,rtwo,rub,rubbing,run,running,rwater,S (Case Conflict),S,sad,salary,same,san,save,say,school,schoolbus,schools,science,scooter,scotland,screen,search,searching,seat,seated,see,semi-roundhand,semiroundhand,send-me,send,sentence,seven,sevenhundred,sevenoclock,seventeen,sewingmachine,shake,she,shop,short,show,sick,sign,signdump.ph,silver,singular,sitandmeet,six,sixhundred,sixoclock,sixteen,sleep,slow,small,soft,solve,sometimes,sorry,speak,speaking,spelling,stay,stethoscope,story,strength,stubborn,student,students,stupid,sunday,swim,swimming,switzerland,T (Case Conflict),T,tabla,table-tennis,Table.AUS,tablet,tailor,take,talk,talking,tall,tallness,tamil,tap,taste,tastes,tasty,taxi,teach,teacher,teachme,teachyou,tear,tease,teat,technical,teeth,telephone,telgu,tell,temperature,temple,ten,tennis,tenoclock,test1,test12,test99,testtt123,than,thankyou,That (Case Conflict),That,the,theif,their,them,themselves,then,there,thermometer,thermos,thermus,these,they,things,think,thirsty,thirteen,this,thorn,those,thread,three,threehundred,threeoclock,throw,thumb-little-finger,thumb,thumbup,thursday,ticket,ticketchecker,tie,tiffinbox,tight,tighten,time,tippi,to,today,together,told,tomato,tomorrow,tools,touch,toward,town,to_me,track,trade-equipment,train,transport,travel,tree,trophy,truck,true,truth,try,trying,tub,tuesday,turn,turned,turnip,turnleft,tv,twelveclock,twenty,two,twohundred,twooclock,two_o_clock,typewriter,typist,U (Case Conflict),U,ugly,umbrella,uncle,under,understand,uniform,university,until,up,urdu,us,use,V (Case Conflict),V,vadodara,van,vapour,vegetable,vegetables,velvet,very,veryverydifficult,video,village,visit,volleyball,vomit,vote,W (Case Conflict),W,wait,waiting,wales,walkacross,wall-clock,wallclock,want,was,wash,waste,water-bottle,water,water1,we,weapon,wear,wears,weaver,weewee,weigh,weight,welcome,well,went,west,what,what_time,wheat,when,where,which,whistle,white,who,whole,why,wide,will,win,wipe-off,wipe,wipe_-_off,wire,wish,with,without,woman,word,work,works,worn(warn),worn,worry,worse,worst,wrestling,write,writedown,writesend,write_down,writing,wrong,x-ray,X,Y (Case Conflict),Y,yeah,yellow,yes,yesterday,yoga,you,youfillinwipe-off,youhowold,your,yourhobbieswhat,yournamewhat,yours,yourself,yourselves,Z (Case Conflict),Z,zebra-crossing,zero,zoo\n"
     ]
    }
   ],
   "source": [
    "messages = []\n",
    "words = generate_array(\"SignFiles\")\n",
    "words_string = \",\".join(words)\n",
    "system_prompt = \"These all are the words the array holds: \" + words_string\n",
    "print(system_prompt)"
   ]
  },
  {
   "cell_type": "code",
   "execution_count": 299,
   "metadata": {},
   "outputs": [],
   "source": [
    "def send_openai_query(messages):\n",
    "    response = openai.ChatCompletion.create(\n",
    "        engine=deployment_name, \n",
    "        temperature=0.5,\n",
    "        top_p=0.8,\n",
    "        frequency_penalty=0,\n",
    "        presence_penalty=0,\n",
    "        max_tokens=150,\n",
    "        messages = messages\n",
    "    )\n",
    "    return response['choices'][0]['message']['content']\n",
    "\n",
    "def add_to_messages(role, content):\n",
    "    messages.append(\n",
    "        {\n",
    "            \"role\": role,\n",
    "            \"content\": content\n",
    "        }\n",
    "    )"
   ]
  },
  {
   "cell_type": "code",
   "execution_count": 290,
   "metadata": {},
   "outputs": [
    {
     "name": "stdout",
     "output_type": "stream",
     "text": [
      "inside [{'role': 'system', 'content': 'These all are the words the array holds: 0,1,10,100,11,12,13,1month,2-3fingerbent,2,2months,3,4,5,6,7,8,9,A (Case Conflict),A,about,above,absorb,accept,access,accident,accuse,achakan,across,act,acting,active,actor,actress,add,additional,advice,advise,aeroplane,afraid,africa,after,afternoon,again,age,agree,alive,all,allah,allday,allover,allow,almirah,alone,always,ambulance,america,among,andhrapradesh,angel,angry,announce,anothertime,anothertime2,answer,ant,antartica,any,anything,appear,appears,apple,appointment,april,are,area,areoplane,argue,around,arrange,arrest,arrive,art,asia,askanything,askquestion,assam,associate,at,atap,atest,atlast,attend,at_this_place,audiologist,auditorium,australia,austria,autorickshaw,auto_rickshaws,available,avoid,awful,axe,axis,B (Case Conflict),B,bad,badminton,bag,bake,ball,ballon,bandage,bangali,basketball,bat,bath,beak,bearwithit,beat,beautiful,become,before,before2,begin,behind,belgium,bell,below,bench,bend,benefit,bent-hand,berth,best,better,between,bhagat,bhangra,bible,big,bird,black,blackboard,blow,blue,boat,body,bogies,boil,book,books,borrow,bottle,bowl,boxing,boy,bracket,bread,break-in,break,bridge,brighton,bring,britain,broom,brother,brothers,brown,brush,bsl,buddha,budhpoornima,build,building,bulb,bullockcart,bus,business,busy,bus_stand,buttons,buy,buying,by,bye,C (Case Conflict),c-x,C,cabbage,calculator,call,calm-down,can,cancel,cannot,cant,canyousign,car,carpenter,carrom,carrot,carry,catch-2,catch,cauliflower,ceiling,cement,center,certificate,chair,chalk,change1,changeback,changemind,chase,check,chemistry,cheque,chess,child,children,chilly,choose,christian,christmas,church,cinema,circle,circus,clap,class,classroom,clerk,click,climb,climbdown,climbup,clinic,clock,close,closedhand,cloud,clouds,clown,cobbler,coefficient,coin,collect,college,colour,colours,come,comeover,comes,cometoyou,come_over,come_to_you,coming,communicate,communication,compare,compass,complain,complaint,composite_carriage,Computer (Case Conflict),Computer,concentrate,cone,confuse,congratulations,contact(pointhand),contact,continue,control,cook,coolie,copy,copy1,corner,correct,council,count,cover,crash,cream,cricket,criticize,crow,cry,cube,cucumber,cup,curly_bracket,cut,cycle,D (Case Conflict),D,Daily-bread,dance,dancer,dancing,date,day,day_after,day_before,deaf,decimal,decimal_place,decrease,degree,delete,dentist,dept,desk,detail,develop,differences,different,difficult,discuss,dislike,distance,divide,Diwali,do,doctor,doctor1,doing,donotunderstand,down,draw,dream,drink,drinking,duck,duplicate,duster,E (Case Conflict),E,easy,eat,education,educationalterms,educational_terms,eid,eight,eighteen,eighthundred,eightoclock,electrician,electricity,eleven,elevenoclock,email,embroidry,empty,encourage,engine,engineer,england,english,enjoy,enter,equal,equator,eraser,escape,essay,evening,every,everyday,everyyear,exam,examination,examine,example,except_for,exercise,expensive,experience,extra,eyelash,F (Case Conflict),F,factory,fail-loser,fall,fan,far,farmer,fat,father,fear,february,feed,feel,fever,few,fifteen,fight,fill-in,fill,find,fingerspell,finish,first,five,fivehundred,fiveoclock,flood,floor,fly,food,football,foots,foot_(measurement),for,forever,forgive,form,for_that,four,fourhundred,fouroclock,fourteen,france,friday,from,fruit,G (Case Conflict),G,gardner,germany,get,gets,getting,ginger,girl,give-form,give-me,glass,go-with-you,go,going,gold,gone,good,got,greece,green,grey,H (Case Conflict),H,half-past,halfpast,hand,hang,hardofhearing,hard_work,hard_working,havealook,hbody,hcarpenter,hchild,hclosedhand,hcook,hdesk,he,head,health,hearing,heartbeat,heart_beat,height,hello,help-me,help-you,her,here,hers,hfear,hfight,hfive,hfour,hhappy,hhere,hhome,hill,him,himself,hindi,hindu,hire,his,hlike,hme,hmind,hmore,hmother,hnot,hnow,hockey,hold,holland,home,hone,hour,hours,house,how,howareyou,howlong_,howmany,howmuch,how_many,how_much,hpen,hpower,hprotion,hread,hroundhand,hrs,hrun,hsee,hsemiroundhand,hsemiroundhandu,hseven,hsilence,hsix,htap,hten,hthat,hthese,hthis,hthree,htight,htub,htwo,hun,hundred,hungry,hurt,hvan,hwater,h_eat,I (Case Conflict),I,ice,idea,ignore,ill,important,impossible,improve,in,increase,index.htm,informus,infrontof,injection,intelligent,interesting,internet,interpreter,Is (Case Conflict),Is,issues,it,iunderstand,Iv,ix-down,ix-left,J (Case Conflict),J,jain,january,jealous,jeep,jesus,join,jug,jump,june,justamoment,K (Case Conflict),K,kannada,kanpur,karate,keep,keeps,kerala,key,keyboard,kfist,kfive,kfour,kilometer,kite,kktwo,kme,know,knowledge,knowwell,koli,kone,kroundhand,kthree,ktwo,L (Case Conflict),L,la,laboratory,ladder,lakhnow,languages,late,later,laugh,lead,leafy-vegetables,leak,learn,leave,lecturer,left,lend,less,letmeknow,letter,level,library,lick,lie,light-house,like,liked,line,link,list,litter,little-fingerhand,little,livewhere,located,lock,long,lorry,lose,loss,loss1,lotus,loud,love,M (Case Conflict),M,make,man,mango,manner,many,march,mark,market,marks,married,mason,may,maybe,me,meal,medicine,meet,meets,mess,method,milkman,mind,minicom,minute,mistake,monday,money,more,morning,mother,motorcycle,mumbai,my,N (Case Conflict),n-n(norfolk),N,nagpur,nails,namaste,name,namewhat,national,near,need,needle,never,new,news,next,nextyear,nice,night,nine,ninehundred,nineoclock,nineteen,no,none,north-pole,not,note-book,note-money,notebook,now,number,nurse,nurses,O (Case Conflict),O,objects,of,offer,office,officer,often,old,olympics,on,one,onehundred,oneoclock,onerupee,onetoone,onion,ooty,open,opendoors,openhand,opens,operation,opraise-clap(deaf),or,orange,order,organise,oriya,other,our,ourself,out,output.cs,over,own,P (Case Conflict),P,page,paper,paragraph,paranoid,parts,pass,passed,past,pay-me,pay,peas,pen,pencil,pencils,pens,person,phone,phoneme,phoneyou,pick,picture,pink,pipe,place,places,plan,play,playing,please,plural,pointing,pooryou,possible,post_office,pot,potatoes,pound,power,practice,prayer,pretend,print,problem,procedure,profit,provide,punjabi,purple,put-on-letter,put,putonleft,Q (Case Conflict),Q,quarterpast,quarterto,question,questionnaire,questions,quick,quiet,quote,quran,R (Case Conflict),R,race,racing,railway,railway_station,Rain,rare,rarea,rborrow,rchild,rclosedhand,reach,reaching,read,reading,ready,reason,reat,receive,reception,rectangle,red,regions,regular,relate,relation,remind,remove,repeat,research,responsibility,responsible,restaurant,resting_position,result,rfear,rfight,rfist,rfive,rfour,rhome,right-_me,right-_that,right-__the,right,right_child,right_sick,rmind,rmother,rone,ronehandsign,roof,round-hand,roundhand,rportion,rpower,rread,rrme,rrmind,rroundhand,rrrtree,rrtree,rrun,rrwater,rsame,rsee,rsemi_roundhand,rsilence,rtap,rten,rthings,rthree,rtight,rtree,rtub,rtwo,rub,rubbing,run,running,rwater,S (Case Conflict),S,sad,salary,same,san,save,say,school,schoolbus,schools,science,scooter,scotland,screen,search,searching,seat,seated,see,semi-roundhand,semiroundhand,send-me,send,sentence,seven,sevenhundred,sevenoclock,seventeen,sewingmachine,shake,she,shop,short,show,sick,sign,signdump.ph,silver,singular,sitandmeet,six,sixhundred,sixoclock,sixteen,sleep,slow,small,soft,solve,sometimes,sorry,speak,speaking,spelling,stay,stethoscope,story,strength,stubborn,student,students,stupid,sunday,swim,swimming,switzerland,T (Case Conflict),T,tabla,table-tennis,Table.AUS,tablet,tailor,take,talk,talking,tall,tallness,tamil,tap,taste,tastes,tasty,taxi,teach,teacher,teachme,teachyou,tear,tease,teat,technical,teeth,telephone,telgu,tell,temperature,temple,ten,tennis,tenoclock,test1,test12,test99,testtt123,than,thankyou,That (Case Conflict),That,the,theif,their,them,themselves,then,there,thermometer,thermos,thermus,these,they,things,think,thirsty,thirteen,this,thorn,those,thread,three,threehundred,threeoclock,throw,thumb-little-finger,thumb,thumbup,thursday,ticket,ticketchecker,tie,tiffinbox,tight,tighten,time,tippi,to,today,together,told,tomato,tomorrow,tools,touch,toward,town,to_me,track,trade-equipment,train,transport,travel,tree,trophy,truck,true,truth,try,trying,tub,tuesday,turn,turned,turnip,turnleft,tv,twelveclock,twenty,two,twohundred,twooclock,two_o_clock,typewriter,typist,U (Case Conflict),U,ugly,umbrella,uncle,under,understand,uniform,university,until,up,urdu,us,use,V (Case Conflict),V,vadodara,van,vapour,vegetable,vegetables,velvet,very,veryverydifficult,video,village,visit,volleyball,vomit,vote,W (Case Conflict),W,wait,waiting,wales,walkacross,wall-clock,wallclock,want,was,wash,waste,water-bottle,water,water1,we,weapon,wear,wears,weaver,weewee,weigh,weight,welcome,well,went,west,what,what_time,wheat,when,where,which,whistle,white,who,whole,why,wide,will,win,wipe-off,wipe,wipe_-_off,wire,wish,with,without,woman,word,work,works,worn(warn),worn,worry,worse,worst,wrestling,write,writedown,writesend,write_down,writing,wrong,x-ray,X,Y (Case Conflict),Y,yeah,yellow,yes,yesterday,yoga,you,youfillinwipe-off,youhowold,your,yourhobbieswhat,yournamewhat,yours,yourself,yourselves,Z (Case Conflict),Z,zebra-crossing,zero,zoo'}]\n",
      "These all are the words the array holds: 0,1,10,100,11,12,13,1month,2-3fingerbent,2,2months,3,4,5,6,7,8,9,A (Case Conflict),A,about,above,absorb,accept,access,accident,accuse,achakan,across,act,acting,active,actor,actress,add,additional,advice,advise,aeroplane,afraid,africa,after,afternoon,again,age,agree,alive,all,allah,allday,allover,allow,almirah,alone,always,ambulance,america,among,andhrapradesh,angel,angry,announce,anothertime,anothertime2,answer,ant,antartica,any,anything,appear,appears,apple,appointment,april,are,area,areoplane,argue,around,arrange,arrest,arrive,art,asia,askanything,askquestion,assam,associate,at,atap,atest,atlast,attend,at_this_place,audiologist,auditorium,australia,austria,autorickshaw,auto_rickshaws,available,avoid,awful,axe,axis,B (Case Conflict),B,bad,badminton,bag,bake,ball,ballon,bandage,bangali,basketball,bat,bath,beak,bearwithit,beat,beautiful,become,before,before2,begin,behind,belgium,bell,below,bench,bend,benefit,bent-hand,berth,best,better,between,bhagat,bhangra,bible,big,bird,black,blackboard,blow,blue,boat,body,bogies,boil,book,books,borrow,bottle,bowl,boxing,boy,bracket,bread,break-in,break,bridge,brighton,bring,britain,broom,brother,brothers,brown,brush,bsl,buddha,budhpoornima,build,building,bulb,bullockcart,bus,business,busy,bus_stand,buttons,buy,buying,by,bye,C (Case Conflict),c-x,C,cabbage,calculator,call,calm-down,can,cancel,cannot,cant,canyousign,car,carpenter,carrom,carrot,carry,catch-2,catch,cauliflower,ceiling,cement,center,certificate,chair,chalk,change1,changeback,changemind,chase,check,chemistry,cheque,chess,child,children,chilly,choose,christian,christmas,church,cinema,circle,circus,clap,class,classroom,clerk,click,climb,climbdown,climbup,clinic,clock,close,closedhand,cloud,clouds,clown,cobbler,coefficient,coin,collect,college,colour,colours,come,comeover,comes,cometoyou,come_over,come_to_you,coming,communicate,communication,compare,compass,complain,complaint,composite_carriage,Computer (Case Conflict),Computer,concentrate,cone,confuse,congratulations,contact(pointhand),contact,continue,control,cook,coolie,copy,copy1,corner,correct,council,count,cover,crash,cream,cricket,criticize,crow,cry,cube,cucumber,cup,curly_bracket,cut,cycle,D (Case Conflict),D,Daily-bread,dance,dancer,dancing,date,day,day_after,day_before,deaf,decimal,decimal_place,decrease,degree,delete,dentist,dept,desk,detail,develop,differences,different,difficult,discuss,dislike,distance,divide,Diwali,do,doctor,doctor1,doing,donotunderstand,down,draw,dream,drink,drinking,duck,duplicate,duster,E (Case Conflict),E,easy,eat,education,educationalterms,educational_terms,eid,eight,eighteen,eighthundred,eightoclock,electrician,electricity,eleven,elevenoclock,email,embroidry,empty,encourage,engine,engineer,england,english,enjoy,enter,equal,equator,eraser,escape,essay,evening,every,everyday,everyyear,exam,examination,examine,example,except_for,exercise,expensive,experience,extra,eyelash,F (Case Conflict),F,factory,fail-loser,fall,fan,far,farmer,fat,father,fear,february,feed,feel,fever,few,fifteen,fight,fill-in,fill,find,fingerspell,finish,first,five,fivehundred,fiveoclock,flood,floor,fly,food,football,foots,foot_(measurement),for,forever,forgive,form,for_that,four,fourhundred,fouroclock,fourteen,france,friday,from,fruit,G (Case Conflict),G,gardner,germany,get,gets,getting,ginger,girl,give-form,give-me,glass,go-with-you,go,going,gold,gone,good,got,greece,green,grey,H (Case Conflict),H,half-past,halfpast,hand,hang,hardofhearing,hard_work,hard_working,havealook,hbody,hcarpenter,hchild,hclosedhand,hcook,hdesk,he,head,health,hearing,heartbeat,heart_beat,height,hello,help-me,help-you,her,here,hers,hfear,hfight,hfive,hfour,hhappy,hhere,hhome,hill,him,himself,hindi,hindu,hire,his,hlike,hme,hmind,hmore,hmother,hnot,hnow,hockey,hold,holland,home,hone,hour,hours,house,how,howareyou,howlong_,howmany,howmuch,how_many,how_much,hpen,hpower,hprotion,hread,hroundhand,hrs,hrun,hsee,hsemiroundhand,hsemiroundhandu,hseven,hsilence,hsix,htap,hten,hthat,hthese,hthis,hthree,htight,htub,htwo,hun,hundred,hungry,hurt,hvan,hwater,h_eat,I (Case Conflict),I,ice,idea,ignore,ill,important,impossible,improve,in,increase,index.htm,informus,infrontof,injection,intelligent,interesting,internet,interpreter,Is (Case Conflict),Is,issues,it,iunderstand,Iv,ix-down,ix-left,J (Case Conflict),J,jain,january,jealous,jeep,jesus,join,jug,jump,june,justamoment,K (Case Conflict),K,kannada,kanpur,karate,keep,keeps,kerala,key,keyboard,kfist,kfive,kfour,kilometer,kite,kktwo,kme,know,knowledge,knowwell,koli,kone,kroundhand,kthree,ktwo,L (Case Conflict),L,la,laboratory,ladder,lakhnow,languages,late,later,laugh,lead,leafy-vegetables,leak,learn,leave,lecturer,left,lend,less,letmeknow,letter,level,library,lick,lie,light-house,like,liked,line,link,list,litter,little-fingerhand,little,livewhere,located,lock,long,lorry,lose,loss,loss1,lotus,loud,love,M (Case Conflict),M,make,man,mango,manner,many,march,mark,market,marks,married,mason,may,maybe,me,meal,medicine,meet,meets,mess,method,milkman,mind,minicom,minute,mistake,monday,money,more,morning,mother,motorcycle,mumbai,my,N (Case Conflict),n-n(norfolk),N,nagpur,nails,namaste,name,namewhat,national,near,need,needle,never,new,news,next,nextyear,nice,night,nine,ninehundred,nineoclock,nineteen,no,none,north-pole,not,note-book,note-money,notebook,now,number,nurse,nurses,O (Case Conflict),O,objects,of,offer,office,officer,often,old,olympics,on,one,onehundred,oneoclock,onerupee,onetoone,onion,ooty,open,opendoors,openhand,opens,operation,opraise-clap(deaf),or,orange,order,organise,oriya,other,our,ourself,out,output.cs,over,own,P (Case Conflict),P,page,paper,paragraph,paranoid,parts,pass,passed,past,pay-me,pay,peas,pen,pencil,pencils,pens,person,phone,phoneme,phoneyou,pick,picture,pink,pipe,place,places,plan,play,playing,please,plural,pointing,pooryou,possible,post_office,pot,potatoes,pound,power,practice,prayer,pretend,print,problem,procedure,profit,provide,punjabi,purple,put-on-letter,put,putonleft,Q (Case Conflict),Q,quarterpast,quarterto,question,questionnaire,questions,quick,quiet,quote,quran,R (Case Conflict),R,race,racing,railway,railway_station,Rain,rare,rarea,rborrow,rchild,rclosedhand,reach,reaching,read,reading,ready,reason,reat,receive,reception,rectangle,red,regions,regular,relate,relation,remind,remove,repeat,research,responsibility,responsible,restaurant,resting_position,result,rfear,rfight,rfist,rfive,rfour,rhome,right-_me,right-_that,right-__the,right,right_child,right_sick,rmind,rmother,rone,ronehandsign,roof,round-hand,roundhand,rportion,rpower,rread,rrme,rrmind,rroundhand,rrrtree,rrtree,rrun,rrwater,rsame,rsee,rsemi_roundhand,rsilence,rtap,rten,rthings,rthree,rtight,rtree,rtub,rtwo,rub,rubbing,run,running,rwater,S (Case Conflict),S,sad,salary,same,san,save,say,school,schoolbus,schools,science,scooter,scotland,screen,search,searching,seat,seated,see,semi-roundhand,semiroundhand,send-me,send,sentence,seven,sevenhundred,sevenoclock,seventeen,sewingmachine,shake,she,shop,short,show,sick,sign,signdump.ph,silver,singular,sitandmeet,six,sixhundred,sixoclock,sixteen,sleep,slow,small,soft,solve,sometimes,sorry,speak,speaking,spelling,stay,stethoscope,story,strength,stubborn,student,students,stupid,sunday,swim,swimming,switzerland,T (Case Conflict),T,tabla,table-tennis,Table.AUS,tablet,tailor,take,talk,talking,tall,tallness,tamil,tap,taste,tastes,tasty,taxi,teach,teacher,teachme,teachyou,tear,tease,teat,technical,teeth,telephone,telgu,tell,temperature,temple,ten,tennis,tenoclock,test1,test12,test99,testtt123,than,thankyou,That (Case Conflict),That,the,theif,their,them,themselves,then,there,thermometer,thermos,thermus,these,they,things,think,thirsty,thirteen,this,thorn,those,thread,three,threehundred,threeoclock,throw,thumb-little-finger,thumb,thumbup,thursday,ticket,ticketchecker,tie,tiffinbox,tight,tighten,time,tippi,to,today,together,told,tomato,tomorrow,tools,touch,toward,town,to_me,track,trade-equipment,train,transport,travel,tree,trophy,truck,true,truth,try,trying,tub,tuesday,turn,turned,turnip,turnleft,tv,twelveclock,twenty,two,twohundred,twooclock,two_o_clock,typewriter,typist,U (Case Conflict),U,ugly,umbrella,uncle,under,understand,uniform,university,until,up,urdu,us,use,V (Case Conflict),V,vadodara,van,vapour,vegetable,vegetables,velvet,very,veryverydifficult,video,village,visit,volleyball,vomit,vote,W (Case Conflict),W,wait,waiting,wales,walkacross,wall-clock,wallclock,want,was,wash,waste,water-bottle,water,water1,we,weapon,wear,wears,weaver,weewee,weigh,weight,welcome,well,went,west,what,what_time,wheat,when,where,which,whistle,white,who,whole,why,wide,will,win,wipe-off,wipe,wipe_-_off,wire,wish,with,without,woman,word,work,works,worn(warn),worn,worry,worse,worst,wrestling,write,writedown,writesend,write_down,writing,wrong,x-ray,X,Y (Case Conflict),Y,yeah,yellow,yes,yesterday,yoga,you,youfillinwipe-off,youhowold,your,yourhobbieswhat,yournamewhat,yours,yourself,yourselves,Z (Case Conflict),Z,zebra-crossing,zero,zoo\n"
     ]
    }
   ],
   "source": [
    "add_to_messages(\"system\", system_prompt)\n",
    "print(system_prompt)"
   ]
  },
  {
   "cell_type": "code",
   "execution_count": 270,
   "metadata": {},
   "outputs": [
    {
     "name": "stdout",
     "output_type": "stream",
     "text": [
      "inside [{'role': 'system', 'content': 'These all are the words the database holds: 0,1,10,100,11,12,13,1month,2-3fingerbent,2,2months,3,4,5,6,7,8,9,A (Case Conflict),A,about,above,absorb,accept,access,accident,accuse,achakan,across,act,acting,active,actor,actress,add,additional,advice,advise,aeroplane,afraid,africa,after,afternoon,again,age,agree,alive,all,allah,allday,allover,allow,almirah,alone,always,ambulance,america,among,andhrapradesh,angel,angry,announce,anothertime,anothertime2,answer,ant,antartica,any,anything,appear,appears,apple,appointment,april,are,area,areoplane,argue,around,arrange,arrest,arrive,art,asia,askanything,askquestion,assam,associate,at,atap,atest,atlast,attend,at_this_place,audiologist,auditorium,australia,austria,autorickshaw,auto_rickshaws,available,avoid,awful,axe,axis,B (Case Conflict),B,bad,badminton,bag,bake,ball,ballon,bandage,bangali,basketball,bat,bath,beak,bearwithit,beat,beautiful,become,before,before2,begin,behind,belgium,bell,below,bench,bend,benefit,bent-hand,berth,best,better,between,bhagat,bhangra,bible,big,bird,black,blackboard,blow,blue,boat,body,bogies,boil,book,books,borrow,bottle,bowl,boxing,boy,bracket,bread,break-in,break,bridge,brighton,bring,britain,broom,brother,brothers,brown,brush,bsl,buddha,budhpoornima,build,building,bulb,bullockcart,bus,business,busy,bus_stand,buttons,buy,buying,by,bye,C (Case Conflict),c-x,C,cabbage,calculator,call,calm-down,can,cancel,cannot,cant,canyousign,car,carpenter,carrom,carrot,carry,catch-2,catch,cauliflower,ceiling,cement,center,certificate,chair,chalk,change1,changeback,changemind,chase,check,chemistry,cheque,chess,child,children,chilly,choose,christian,christmas,church,cinema,circle,circus,clap,class,classroom,clerk,click,climb,climbdown,climbup,clinic,clock,close,closedhand,cloud,clouds,clown,cobbler,coefficient,coin,collect,college,colour,colours,come,comeover,comes,cometoyou,come_over,come_to_you,coming,communicate,communication,compare,compass,complain,complaint,composite_carriage,Computer (Case Conflict),Computer,concentrate,cone,confuse,congratulations,contact(pointhand),contact,continue,control,cook,coolie,copy,copy1,corner,correct,council,count,cover,crash,cream,cricket,criticize,crow,cry,cube,cucumber,cup,curly_bracket,cut,cycle,D (Case Conflict),D,Daily-bread,dance,dancer,dancing,date,day,day_after,day_before,deaf,decimal,decimal_place,decrease,degree,delete,dentist,dept,desk,detail,develop,differences,different,difficult,discuss,dislike,distance,divide,Diwali,do,doctor,doctor1,doing,donotunderstand,down,draw,dream,drink,drinking,duck,duplicate,duster,E (Case Conflict),E,easy,eat,education,educationalterms,educational_terms,eid,eight,eighteen,eighthundred,eightoclock,electrician,electricity,eleven,elevenoclock,email,embroidry,empty,encourage,engine,engineer,england,english,enjoy,enter,equal,equator,eraser,escape,essay,evening,every,everyday,everyyear,exam,examination,examine,example,except_for,exercise,expensive,experience,extra,eyelash,F (Case Conflict),F,factory,fail-loser,fall,fan,far,farmer,fat,father,fear,february,feed,feel,fever,few,fifteen,fight,fill-in,fill,find,fingerspell,finish,first,five,fivehundred,fiveoclock,flood,floor,fly,food,football,foots,foot_(measurement),for,forever,forgive,form,for_that,four,fourhundred,fouroclock,fourteen,france,friday,from,fruit,G (Case Conflict),G,gardner,germany,get,gets,getting,ginger,girl,give-form,give-me,glass,go-with-you,go,going,gold,gone,good,got,greece,green,grey,H (Case Conflict),H,half-past,halfpast,hand,hang,hardofhearing,hard_work,hard_working,havealook,hbody,hcarpenter,hchild,hclosedhand,hcook,hdesk,he,head,health,hearing,heartbeat,heart_beat,height,hello,help-me,help-you,her,here,hers,hfear,hfight,hfive,hfour,hhappy,hhere,hhome,hill,him,himself,hindi,hindu,hire,his,hlike,hme,hmind,hmore,hmother,hnot,hnow,hockey,hold,holland,home,hone,hour,hours,house,how,howareyou,howlong_,howmany,howmuch,how_many,how_much,hpen,hpower,hprotion,hread,hroundhand,hrs,hrun,hsee,hsemiroundhand,hsemiroundhandu,hseven,hsilence,hsix,htap,hten,hthat,hthese,hthis,hthree,htight,htub,htwo,hun,hundred,hungry,hurt,hvan,hwater,h_eat,I (Case Conflict),I,ice,idea,ignore,ill,important,impossible,improve,in,increase,index.htm,informus,infrontof,injection,intelligent,interesting,internet,interpreter,Is (Case Conflict),Is,issues,it,iunderstand,Iv,ix-down,ix-left,J (Case Conflict),J,jain,january,jealous,jeep,jesus,join,jug,jump,june,justamoment,K (Case Conflict),K,kannada,kanpur,karate,keep,keeps,kerala,key,keyboard,kfist,kfive,kfour,kilometer,kite,kktwo,kme,know,knowledge,knowwell,koli,kone,kroundhand,kthree,ktwo,L (Case Conflict),L,la,laboratory,ladder,lakhnow,languages,late,later,laugh,lead,leafy-vegetables,leak,learn,leave,lecturer,left,lend,less,letmeknow,letter,level,library,lick,lie,light-house,like,liked,line,link,list,litter,little-fingerhand,little,livewhere,located,lock,long,lorry,lose,loss,loss1,lotus,loud,love,M (Case Conflict),M,make,man,mango,manner,many,march,mark,market,marks,married,mason,may,maybe,me,meal,medicine,meet,meets,mess,method,milkman,mind,minicom,minute,mistake,monday,money,more,morning,mother,motorcycle,mumbai,my,N (Case Conflict),n-n(norfolk),N,nagpur,nails,namaste,name,namewhat,national,near,need,needle,never,new,news,next,nextyear,nice,night,nine,ninehundred,nineoclock,nineteen,no,none,north-pole,not,note-book,note-money,notebook,now,number,nurse,nurses,O (Case Conflict),O,objects,of,offer,office,officer,often,old,olympics,on,one,onehundred,oneoclock,onerupee,onetoone,onion,ooty,open,opendoors,openhand,opens,operation,opraise-clap(deaf),or,orange,order,organise,oriya,other,our,ourself,out,output.cs,over,own,P (Case Conflict),P,page,paper,paragraph,paranoid,parts,pass,passed,past,pay-me,pay,peas,pen,pencil,pencils,pens,person,phone,phoneme,phoneyou,pick,picture,pink,pipe,place,places,plan,play,playing,please,plural,pointing,pooryou,possible,post_office,pot,potatoes,pound,power,practice,prayer,pretend,print,problem,procedure,profit,provide,punjabi,purple,put-on-letter,put,putonleft,Q (Case Conflict),Q,quarterpast,quarterto,question,questionnaire,questions,quick,quiet,quote,quran,R (Case Conflict),R,race,racing,railway,railway_station,Rain,rare,rarea,rborrow,rchild,rclosedhand,reach,reaching,read,reading,ready,reason,reat,receive,reception,rectangle,red,regions,regular,relate,relation,remind,remove,repeat,research,responsibility,responsible,restaurant,resting_position,result,rfear,rfight,rfist,rfive,rfour,rhome,right-_me,right-_that,right-__the,right,right_child,right_sick,rmind,rmother,rone,ronehandsign,roof,round-hand,roundhand,rportion,rpower,rread,rrme,rrmind,rroundhand,rrrtree,rrtree,rrun,rrwater,rsame,rsee,rsemi_roundhand,rsilence,rtap,rten,rthings,rthree,rtight,rtree,rtub,rtwo,rub,rubbing,run,running,rwater,S (Case Conflict),S,sad,salary,same,san,save,say,school,schoolbus,schools,science,scooter,scotland,screen,search,searching,seat,seated,see,semi-roundhand,semiroundhand,send-me,send,sentence,seven,sevenhundred,sevenoclock,seventeen,sewingmachine,shake,she,shop,short,show,sick,sign,signdump.ph,silver,singular,sitandmeet,six,sixhundred,sixoclock,sixteen,sleep,slow,small,soft,solve,sometimes,sorry,speak,speaking,spelling,stay,stethoscope,story,strength,stubborn,student,students,stupid,sunday,swim,swimming,switzerland,T (Case Conflict),T,tabla,table-tennis,Table.AUS,tablet,tailor,take,talk,talking,tall,tallness,tamil,tap,taste,tastes,tasty,taxi,teach,teacher,teachme,teachyou,tear,tease,teat,technical,teeth,telephone,telgu,tell,temperature,temple,ten,tennis,tenoclock,test1,test12,test99,testtt123,than,thankyou,That (Case Conflict),That,the,theif,their,them,themselves,then,there,thermometer,thermos,thermus,these,they,things,think,thirsty,thirteen,this,thorn,those,thread,three,threehundred,threeoclock,throw,thumb-little-finger,thumb,thumbup,thursday,ticket,ticketchecker,tie,tiffinbox,tight,tighten,time,tippi,to,today,together,told,tomato,tomorrow,tools,touch,toward,town,to_me,track,trade-equipment,train,transport,travel,tree,trophy,truck,true,truth,try,trying,tub,tuesday,turn,turned,turnip,turnleft,tv,twelveclock,twenty,two,twohundred,twooclock,two_o_clock,typewriter,typist,U (Case Conflict),U,ugly,umbrella,uncle,under,understand,uniform,university,until,up,urdu,us,use,V (Case Conflict),V,vadodara,van,vapour,vegetable,vegetables,velvet,very,veryverydifficult,video,village,visit,volleyball,vomit,vote,W (Case Conflict),W,wait,waiting,wales,walkacross,wall-clock,wallclock,want,was,wash,waste,water-bottle,water,water1,we,weapon,wear,wears,weaver,weewee,weigh,weight,welcome,well,went,west,what,what_time,wheat,when,where,which,whistle,white,who,whole,why,wide,will,win,wipe-off,wipe,wipe_-_off,wire,wish,with,without,woman,word,work,works,worn(warn),worn,worry,worse,worst,wrestling,write,writedown,writesend,write_down,writing,wrong,x-ray,X,Y (Case Conflict),Y,yeah,yellow,yes,yesterday,yoga,you,youfillinwipe-off,youhowold,your,yourhobbieswhat,yournamewhat,yours,yourself,yourselves,Z (Case Conflict),Z,zebra-crossing,zero,zoo.Provide one-word answers only, if there is no available word then return 404'}, {'role': 'user', 'content': 'In all the words of the database, what word in the database is the best synonym to the word festival'}, {'role': 'user', 'content': 'In all the words of the database, what word in the database is the best synonym to the word table'}, {'role': 'user', 'content': 'In all the words of the database, what word in the database is the best synonym to the word table. Provide a one-word answer'}, {'role': 'user', 'content': 'In all the words of the database, what word in the database is the best synonym to the word table. Provide a one-word answer, if there is no word that is similar then return 404'}, {'role': 'user', 'content': 'In all the words of the database, what word in the database is the best synonym to the word table. Provide a one-word answer, if there is no word you can find then simply return 404'}, {'role': 'user', 'content': 'In all the words of the database, what word in the database is the best synonym to the word destroy. Provide a one-word answer, if there is no word you can find then simply return 404'}, {'role': 'user', 'content': 'In all the words of the database, what word in the database is the best synonym to the word destroy. Provide a one-word answer encapsulated in % signs, if there is no word you can find then simply return 404'}, {'role': 'user', 'content': 'In all the words of the database, what word in the database is the best synonym to the word book is good. Provide a one-word answer encapsulated in % signs, if there is no word you can find then simply return 404'}, {'role': 'user', 'content': 'In all the words of the database, what word in the database is the best synonym to the word book is good. Provide a one-word answer encapsulated in % signs, if there is no word you can find then simply return 404'}, {'role': 'user', 'content': 'In all the words of the database, what word in the database is the best synonym to the word book is good. Provide a one-word answer encapsulated in % signs, if there is no word you can find then simply return 404'}, {'role': 'user', 'content': 'In all the words of the database, what word in the database is the best synonym to the word book is good. Provide a one-word answer encapsulated in % signs, if there is no word you can find then simply return 404'}, {'role': 'user', 'content': \"In all the words of the database, what word in the database is the best synonym to the word ['book', 'is', 'good']. Provide a one-word answer encapsulated in % signs, if there is no word you can find then simply return 404\"}, {'role': 'user', 'content': \"In all the words of the database, what word in the database is the best synonym to the word ['book', 'is', 'good']. Provide a one-word answer encapsulated in % signs, if there is no word you can find then simply return 404\"}, {'role': 'user', 'content': \"In all the words of the database, what word in the database is the best synonym to the word ['book', 'is', 'good']. Provide a one-word answer encapsulated in % signs, if there is no word you can find then simply return 404\"}, {'role': 'user', 'content': \"In all the words of the database, what word in the database is the best synonym to the word ['book', 'is', 'good']. Provide a one-word answer encapsulated in % signs, if there is no word you can find then simply return 404\"}, {'role': 'user', 'content': \"In all the words of the database, what word in the database is the best synonym to the word ['book', 'is', 'good']. Provide a one-word answer encapsulated in % signs, if there is no word you can find then simply return 404\"}, {'role': 'user', 'content': 'In all the words of the database, what word in the database is the best synonym to the word is. Provide a one-word answer encapsulated in % signs, if there is no word you can find then simply return 404'}, {'role': 'user', 'content': 'In all the words of the database, what word in the database is the best synonym to the word is. Provide a one-word answer encapsulated in % signs, if there is no word you can find then simply return 404'}, {'role': 'user', 'content': 'In all the words of the database, what word in the database is the best synonym to the word is. Provide a one-word answer encapsulated in % signs, if there is no word you can find then simply return 404'}, {'role': 'user', 'content': 'In all the words of the database, what word in the database is the best synonym to the word is. Provide a one-word answer encapsulated in % signs, if there is no word you can find then simply return 404'}, {'role': 'user', 'content': 'In all the words of the database, what word in the database is the best synonym to the word is. Provide a one-word answer encapsulated in % signs, if there is no word you can find then simply return 404'}, {'role': 'user', 'content': 'In all the words of the database, what word in the database is the best synonym to the word is. Provide a one-word answer encapsulated in % signs, if there is no word you can find then simply return 404'}, {'role': 'user', 'content': 'In all the words of the database, what word in the database is the best synonym to the word is. Provide a one-word answer encapsulated in % signs, if there is no word you can find then simply return 404'}, {'role': 'user', 'content': 'In all the words of the database, what word in the database is the best synonym to the word is. Provide a one-word answer encapsulated in % signs, if there is no word you can find then simply return 404'}, {'role': 'user', 'content': 'In all the words of the database, what word in the database is the best synonym to the word is. Provide a one-word answer encapsulated in % signs, if there is no word you can find then simply return 404'}, {'role': 'user', 'content': 'In all the words of the database, what word in the database is the best synonym to the word is. Provide a one-word answer encapsulated in % signs, if there is no word you can find then simply return 404'}, {'role': 'user', 'content': 'In all the words of the database, what word in the database is the best synonym to the word is. Provide a one-word answer encapsulated in % signs, if there is no word you can find then simply return 404'}, {'role': 'user', 'content': 'In all the words of the database, what word in the database is the best synonym to the word is. Provide a one-word answer encapsulated in % signs, if there is no word you can find then simply return 404'}, {'role': 'user', 'content': 'In all the words of the database, what word in the database is the best synonym to the word is. Provide a one-word answer encapsulated in % signs, if there is no word you can find then simply return 404'}, {'role': 'user', 'content': 'In all the words of the database, what word in the database is the best synonym to the word is. Provide a one-word answer encapsulated in % signs, if there is no word you can find then simply return 404'}, {'role': 'user', 'content': 'In all the words of the database, what word in the database is the best synonym to the word is. Provide a one-word answer encapsulated in % signs, if there is no word you can find then simply return 404'}, {'role': 'user', 'content': 'In all the words of the database, what word in the database is the best synonym to the word is. Provide a one-word answer encapsulated in % signs, if there is no word you can find then simply return 404'}, {'role': 'user', 'content': 'In all the words of the database, what word in the database is the best synonym to the word is. Provide a one-word answer encapsulated in % signs, if there is no word you can find then simply return 404'}, {'role': 'user', 'content': 'In all the words of the database, what word in the database is the best synonym to the word and. Provide a one-word answer encapsulated in % signs, if there is no word you can find then simply return 404'}, {'role': 'user', 'content': 'In all the words of the database, what word in the database is the best synonym to the word destroy. Provide a one-word answer encapsulated in % signs, if there is no word you can find then simply return 404'}, {'role': 'user', 'content': 'In all the words of the database, what word in the database is the best synonym to the word is. Provide a one-word answer encapsulated in % signs, if there is no word you can find then simply return 404'}, {'role': 'user', 'content': 'In all the words of the database, what word in the database is the best synonym to the word and. Provide a one-word answer encapsulated in % signs, if there is no word you can find then simply return 404'}, {'role': 'user', 'content': 'In all the words of the database, what word in the database is the best synonym to the word destroy. Provide a one-word answer encapsulated in % signs, if there is no word you can find then simply return 404'}, {'role': 'user', 'content': 'In all the words of the database, what word in the database is the best synonym to the word is. Provide a one-word answer encapsulated in % signs, if there is no word you can find then simply return 404'}, {'role': 'user', 'content': 'In all the words of the database, what word in the database is the best synonym to the word is. Provide a one-word answer encapsulated in % signs, if there is no word you can find then simply return 404'}, {'role': 'user', 'content': 'In all the words of the database, what word in the database is the best synonym to the word and. Provide a one-word answer encapsulated in % signs, if there is no word you can find then simply return 404'}, {'role': 'user', 'content': 'In all the words of the database, what word in the database is the best synonym to the word destroy. Provide a one-word answer encapsulated in % signs, if there is no word you can find then simply return 404'}, {'role': 'user', 'content': 'In all the words of the database, what word in the database is the best synonym to the word is. Provide a one-word answer encapsulated in % signs, if there is no word you can find then simply return 404'}, {'role': 'user', 'content': 'In all the words of the database, what word in the database is the best synonym to the word and. Provide a one-word answer encapsulated in % signs, if there is no word you can find then simply return 404'}, {'role': 'user', 'content': 'In all the words of the database, what word in the database is the best synonym to the word destroy. Provide a one-word answer encapsulated in % signs, if there is no word you can find then simply return 404'}, {'role': 'user', 'content': 'In all the words of the database, what word in the database is the best synonym to the word is. Provide a one-word answer encapsulated in % signs, if there is no word you can find then simply return 404'}, {'role': 'user', 'content': 'In all the words of the database, what word in the database is the best synonym to the word and. Provide a one-word answer encapsulated in % signs, if there is no word you can find then simply return 404'}, {'role': 'user', 'content': 'In all the words of the database, what word in the database is the best synonym to the word destroy. Provide a one-word answer encapsulated in % signs, if there is no word you can find then simply return 404'}, {'role': 'user', 'content': 'In all the words of the database, what word in the database is the best synonym to the word is. Provide a one-word answer encapsulated in % signs, if there is no word you can find then simply return 404'}, {'role': 'user', 'content': 'In all the words of the database, what word in the database is the best synonym to the word is. Provide a one-word answer encapsulated in % signs, if there is no word you can find then simply return 404'}, {'role': 'user', 'content': 'In all the words of the database, what word in the database is the best synonym to the word giant. Provide a one-word answer encapsulated in % signs, if there is no word you can find then simply return 404'}, {'role': 'user', 'content': 'In all the words of the database, what word in the database is the best synonym to the word is. Provide a one-word answer encapsulated in % signs, if there is no word you can find then simply return 404'}, {'role': 'user', 'content': 'In all the words of the database, what word in the database is the best synonym to the word giant. Provide a one-word answer encapsulated in % signs, if there is no word you can find then simply return 404'}, {'role': 'user', 'content': 'In all the words of the database, what word in the database is the best synonym to the word is. Provide a one-word answer encapsulated in % signs, if there is no word you can find then simply return 404'}, {'role': 'user', 'content': 'In all the words of the database, what word in the database is the best synonym to the word giant. Provide a one-word answer encapsulated in % signs, if there is no word you can find then simply return 404'}, {'role': 'user', 'content': 'In all the words of the database, what word in the database is the best synonym to the word is. Provide a one-word answer encapsulated in % signs, if there is no word you can find then simply return 404'}, {'role': 'user', 'content': 'In all the words of the database, what word in the database is the best synonym to the word giant. Provide a one-word answer encapsulated in % signs, if there is no word you can find then simply return 404'}, {'role': 'user', 'content': 'In all the words of the database, what word in the database is the best synonym to the word is. Provide a one-word answer encapsulated in % signs, if there is no word you can find then simply return 404'}, {'role': 'user', 'content': 'In all the words of the database, what word in the database is the best synonym to the word giant. Provide a one-word answer encapsulated in % signs, if there is no word you can find then simply return 404'}, {'role': 'user', 'content': 'In all the words of the database, what word in the database is the best synonym to the word is. Provide a one-word answer encapsulated in % signs, if there is no word you can find then simply return 404'}, {'role': 'user', 'content': 'In all the words of the database, what word in the database is the best synonym to the word giant. Provide a one-word answer encapsulated in % signs, if there is no word you can find then simply return 404'}, {'role': 'user', 'content': 'In all the words of the database, what word in the database is the best synonym to the word is. Provide a one-word answer encapsulated in % signs, if there is no word you can find then simply return 404'}, {'role': 'user', 'content': 'In all the words of the database, what word in the database is the best synonym to the word giant. Provide a one-word answer encapsulated in % signs, if there is no word you can find then simply return 404'}, {'role': 'user', 'content': 'In all the words of the database, what word in the database is the best synonym to the word is. Provide a one-word answer encapsulated in % signs, if there is no word you can find then simply return 404'}, {'role': 'user', 'content': 'In all the words of the database, what word in the database is the best synonym to the word giant. Provide a one-word answer encapsulated in % signs, if there is no word you can find then simply return 404'}, {'role': 'user', 'content': 'In all the words of the database, what word in the database is the best synonym to the word is. Provide a one-word answer encapsulated in % signs, if there is no word you can find then simply return 404'}, {'role': 'user', 'content': 'In all the words of the database, what word in the database is the best synonym to the word giant. Provide a one-word answer encapsulated in % signs, if there is no word you can find then simply return 404'}, {'role': 'user', 'content': 'In all the words of the database, what word in the database is the best synonym to the word is. Provide a one-word answer encapsulated in % signs, if there is no word you can find then simply return 404'}, {'role': 'user', 'content': 'In all the words of the database, what word in the database is the best synonym to the word giant. Provide a one-word answer encapsulated in % signs, if there is no word you can find then simply return 404'}, {'role': 'user', 'content': 'In all the words of the database, what word in the database is the best synonym to the word is. Provide a one-word answer encapsulated in % signs, if there is no word you can find then simply return 404'}, {'role': 'user', 'content': 'In all the words of the database, what word in the database is the best synonym to the word bigger. Provide a one-word answer encapsulated in % signs, if there is no word you can find then simply return 404'}, {'role': 'user', 'content': 'In all the words in the array, what word in the array is the best synonym to the word destroy. Provide a one-word answer encapsulated in % signs, if there is no word you can find then simply return 404'}]\n"
     ]
    }
   ],
   "source": [
    "question = lambda x : f'In all the words in the array, what word in the array is the best synonym to the word {x}. Provide a one-word answer encapsulated in % signs, if there is no word you can find then simply return 404'\n",
    "add_to_messages(\"user\",question(\"destroy\"))"
   ]
  },
  {
   "cell_type": "code",
   "execution_count": 133,
   "metadata": {},
   "outputs": [
    {
     "name": "stdout",
     "output_type": "stream",
     "text": [
      "not found\n"
     ]
    }
   ],
   "source": [
    "check = \"ruin\"\n",
    "if check in words:\n",
    "    print(\"found\")\n",
    "else:\n",
    "    print(\"not found\")"
   ]
  },
  {
   "cell_type": "code",
   "execution_count": 137,
   "metadata": {},
   "outputs": [
    {
     "name": "stdout",
     "output_type": "stream",
     "text": [
      "%demolish%\n"
     ]
    }
   ],
   "source": [
    "response = send_openai_query(messages)\n",
    "print(response)"
   ]
  },
  {
   "cell_type": "code",
   "execution_count": 263,
   "metadata": {},
   "outputs": [],
   "source": [
    "def delete_first_and_last_line(input_string):\n",
    "    input_string = input_string.replace(\"<sigml>\",\"\")\n",
    "    input_string = input_string.replace(\"</sigml>\",\"\")\n",
    "    return input_string"
   ]
  },
  {
   "cell_type": "code",
   "execution_count": 239,
   "metadata": {},
   "outputs": [],
   "source": [
    "def search_and_return(search_value, csv_file=\"SignFiles/output.csv\"):\n",
    "    # Read the CSV file into a DataFrame\n",
    "    df = pd.read_csv(csv_file)\n",
    "    \n",
    "    # Check if the search value exists in the first column\n",
    "    if search_value in df.iloc[:, 0].values:\n",
    "        # Find the row index where the search value is located\n",
    "        row_index = df.index[df.iloc[:, 0] == search_value].tolist()[0]\n",
    "        \n",
    "        # Get the value from the second column in the same row\n",
    "        result = df.iloc[row_index, 1]\n",
    "        result = delete_first_and_last_line(result)\n",
    "        return result\n",
    "    else:\n",
    "        return None # Return None if search value is not found"
   ]
  },
  {
   "cell_type": "code",
   "execution_count": 224,
   "metadata": {},
   "outputs": [
    {
     "name": "stdout",
     "output_type": "stream",
     "text": [
      "<hns_sign gloss=\"book\">\n",
      "\t<hamnosys_nonmanual>\n",
      "\t</hamnosys_nonmanual>\n",
      "\t<hamnosys_manual>\n",
      "\t\t<hamsymmlr/>\n",
      "\t\t<hamflathand/>\n",
      "\t\t<hamextfingero/>\n",
      "\t\t<hampalml/>\n",
      "\t\t<hamseqbegin/>\n",
      "\t\t<hamtouch/>\n",
      "\t\t<hampalm/>\n",
      "\t\t<hamseqend/>\n",
      "\t\t<hamreplace/>\n",
      "\t\t<hamflathand/>\n",
      "\t\t<hamextfingero/>\n",
      "\t\t<hampalmu/>\n",
      "\t\t<hambetween/>\n",
      "\t\t<hampalmul/>\n",
      "\t\t<hamseqbegin/>\n",
      "\t\t<hamtouch/>\n",
      "\t\t<hamfingerside/>\n",
      "\t\t<hampinky/>\n",
      "\t\t<hamseqend/>\n",
      "\t</hamnosys_manual>\n",
      "</hns_sign>\n"
     ]
    }
   ],
   "source": [
    "word = \"book\"\n",
    "print(search_and_return(word))"
   ]
  },
  {
   "cell_type": "code",
   "execution_count": 293,
   "metadata": {},
   "outputs": [],
   "source": [
    "def find_response(answer):\n",
    "    answer = answer.split()\n",
    "\n",
    "    for word in answer:\n",
    "        print(word)\n",
    "        if word[0] == \"%\" and (word[-1] == \"%\" or word[-2] == \"%\"):\n",
    "            return word[1:-1] if word[-1] == \"%\" else word[1:-2] \n",
    "    return None"
   ]
  },
  {
   "cell_type": "code",
   "execution_count": 295,
   "metadata": {},
   "outputs": [],
   "source": [
    "# CONVERT WORD\n",
    "def convert_word(word,messages):\n",
    "    print(\"FOR WORD\", word)\n",
    "    sigml = \"\"\n",
    "    question = lambda x : f'In all the words in the array, what word in the array is the best synonym to the word {x}. Provide a one-word answer encapsulated in % signs, if there is no word you can find then simply return 404'\n",
    "\n",
    "    code = search_and_return(word)\n",
    "    if code != None:\n",
    "        print(\"found\")\n",
    "        sigml = sigml + \"\\n\" + code\n",
    "    else:\n",
    "        add_to_messages(\"system\", system_prompt)\n",
    "        add_to_messages(\"user\",question(word))\n",
    "        response = send_openai_query(messages)\n",
    "        print(\"synonym = \", response)\n",
    "        answer = find_response(response)\n",
    "        code = search_and_return(answer)\n",
    "        print(code)\n",
    "        if code is not None:\n",
    "            sigml = sigml + \"\\n\" + code\n",
    "    \n",
    "    return sigml"
   ]
  },
  {
   "cell_type": "code",
   "execution_count": 307,
   "metadata": {},
   "outputs": [
    {
     "name": "stdout",
     "output_type": "stream",
     "text": [
      "FOR WORD book\n",
      "found\n",
      "FOR WORD is\n",
      "synonym =  404\n",
      "404\n",
      "None\n",
      "FOR WORD huge\n",
      "synonym =  404\n",
      "404\n",
      "None\n"
     ]
    }
   ],
   "source": [
    "sentence = \"book is huge\"\n",
    "sentence = sentence.split()\n",
    "all = \"<sigml>\\n\"\n",
    "\n",
    "for word in sentence:\n",
    "    messages = []\n",
    "    all += convert_word(word,messages)\n",
    "\n",
    "all = all + \"\\n</sigml>\""
   ]
  },
  {
   "cell_type": "code",
   "execution_count": 309,
   "metadata": {},
   "outputs": [
    {
     "name": "stdout",
     "output_type": "stream",
     "text": [
      "<sigml>\n",
      "\n",
      "\n",
      "<hns_sign gloss=\"book\">\n",
      "\t<hamnosys_nonmanual>\n",
      "\t</hamnosys_nonmanual>\n",
      "\t<hamnosys_manual>\n",
      "\t\t<hamsymmlr/>\n",
      "\t\t<hamflathand/>\n",
      "\t\t<hamextfingero/>\n",
      "\t\t<hampalml/>\n",
      "\t\t<hamseqbegin/>\n",
      "\t\t<hamtouch/>\n",
      "\t\t<hampalm/>\n",
      "\t\t<hamseqend/>\n",
      "\t\t<hamreplace/>\n",
      "\t\t<hamflathand/>\n",
      "\t\t<hamextfingero/>\n",
      "\t\t<hampalmu/>\n",
      "\t\t<hambetween/>\n",
      "\t\t<hampalmul/>\n",
      "\t\t<hamseqbegin/>\n",
      "\t\t<hamtouch/>\n",
      "\t\t<hamfingerside/>\n",
      "\t\t<hampinky/>\n",
      "\t\t<hamseqend/>\n",
      "\t</hamnosys_manual>\n",
      "</hns_sign>\n",
      "\n",
      "\n",
      "</sigml>\n"
     ]
    }
   ],
   "source": [
    "print(all)"
   ]
  }
 ],
 "metadata": {
  "kernelspec": {
   "display_name": "base",
   "language": "python",
   "name": "python3"
  },
  "language_info": {
   "codemirror_mode": {
    "name": "ipython",
    "version": 3
   },
   "file_extension": ".py",
   "mimetype": "text/x-python",
   "name": "python",
   "nbconvert_exporter": "python",
   "pygments_lexer": "ipython3",
   "version": "3.11.4"
  }
 },
 "nbformat": 4,
 "nbformat_minor": 2
}
